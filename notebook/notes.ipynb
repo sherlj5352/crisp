{
 "cells": [
  {
   "cell_type": "markdown",
   "metadata": {},
   "source": [
    "# Development Notes"
   ]
  },
  {
   "cell_type": "markdown",
   "metadata": {},
   "source": [
    "5 April 2022\n",
    "- Still working through code changes to pick up utilities from [pymlutil](https://pypi.org/project/pymlutil/) rather than a local utilities directory."
   ]
  }
 ],
 "metadata": {
  "language_info": {
   "name": "python"
  },
  "orig_nbformat": 4
 },
 "nbformat": 4,
 "nbformat_minor": 2
}
